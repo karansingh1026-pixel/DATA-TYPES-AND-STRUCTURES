{
  "nbformat": 4,
  "nbformat_minor": 0,
  "metadata": {
    "colab": {
      "provenance": []
    },
    "kernelspec": {
      "name": "python3",
      "display_name": "Python 3"
    },
    "language_info": {
      "name": "python"
    }
  },
  "cells": [
    {
      "cell_type": "markdown",
      "source": [
        "Question 1. What are data structures, and why are they important ?"
      ],
      "metadata": {
        "id": "rhdRhZAPHyrZ"
      }
    },
    {
      "cell_type": "markdown",
      "source": [
        "    A data structure is a way of organizing, storing, and managing data so that it can be used efficiently.\n",
        "\n",
        "    Example: Think of a cupboard. If you randomly throw clothes inside, it’s\n",
        "    hard to find anything. But if you fold shirts, hang pants, and keep socks in a drawer, it’s much easier. That’s what data structures do for data.\n",
        "\n",
        "Common Data Structures:\n",
        "\n",
        "    Array → Stores items in order (like a row of lockers).\n",
        "\n",
        "    Linked List → Items connected by links (like a chain).\n",
        "\n",
        "    Stack → Last In, First Out (like a stack of plates).\n",
        "\n",
        "    Queue → First In, First Out (like a ticket line).\n",
        "\n",
        "    Tree → Hierarchical (like a family tree).\n",
        "\n",
        "    Graph → Nodes connected with edges (like a map of cities and roads).\n",
        "\n",
        "Why They Are Important:\n",
        "\n",
        "    Efficiency → Makes programs faster (e.g., searching and sorting data).\n",
        "\n",
        "    Better memory use → Saves space.\n",
        "\n",
        "    Problem-solving → Some problems can only be solved easily with the right structure.\n",
        "\n",
        "    Foundation of programming → Used in databases, operating systems, compilers, AI, etc.\n",
        "\n",
        "    In short: Data structures = Organized way to handle data efficiently."
      ],
      "metadata": {
        "id": "91hPOSSkH4Hc"
      }
    },
    {
      "cell_type": "markdown",
      "source": [
        "Question 2. Explain the difference between mutable and immutable data types with examples."
      ],
      "metadata": {
        "id": "-eTIIC9rIKs1"
      }
    },
    {
      "cell_type": "markdown",
      "source": [
        "Mutable Data Types\n",
        "\n",
        "    Definition: Can be changed/modified after creation.\n",
        "\n",
        "    Example in Python: List, Dictionary, Set.\n",
        "\n",
        "Example:"
      ],
      "metadata": {
        "id": "6S18xmyQIUkN"
      }
    },
    {
      "cell_type": "code",
      "source": [
        "my_list = [1, 2, 3]\n",
        "my_list[0] = 10   # changed first element\n",
        "print(my_list)   # Output: [10, 2, 3]\n"
      ],
      "metadata": {
        "id": "kdoZ6cUlIcYL"
      },
      "execution_count": null,
      "outputs": []
    },
    {
      "cell_type": "markdown",
      "source": [
        "    Here, the same list was changed."
      ],
      "metadata": {
        "id": "ElokQoZnIgUV"
      }
    },
    {
      "cell_type": "markdown",
      "source": [
        "Immutable Data Types\n",
        "\n",
        "    Definition: Cannot be changed after creation. If you try, a new object is created.\n",
        "\n",
        "    Example in Python: String, Tuple, Integer.\n",
        "\n",
        "Example:"
      ],
      "metadata": {
        "id": "U1nCMAPwIkLj"
      }
    },
    {
      "cell_type": "code",
      "source": [
        "my_string = \"hello\"\n",
        "my_string = my_string + \" world\"   # creates a NEW string\n",
        "print(my_string)   # Output: hello world\n"
      ],
      "metadata": {
        "id": "l5Qw5lgNIp8e"
      },
      "execution_count": null,
      "outputs": []
    },
    {
      "cell_type": "markdown",
      "source": [
        "    Here, \"hello\" was not modified. Instead, a new string \"hello world\" was created.\n",
        "\n",
        "Easy way to remember:\n",
        "\n",
        "    Mutable = Changeable (like a notebook, you can edit).\n",
        "\n",
        "    Immutable = Unchangeable (like a printed book, if you want changes, you need a new edition)."
      ],
      "metadata": {
        "id": "F_133r_AIu29"
      }
    },
    {
      "cell_type": "markdown",
      "source": [
        "Question 3. What are the main differences between lists and tuples in Python ?\n",
        "\n",
        "Mutability\n",
        "\n",
        "    List: Mutable (you can change, add, or remove elements).\n",
        "\n",
        "    Tuple: Immutable (once created, you cannot change its elements).\n",
        "\n",
        "Syntax\n",
        "\n",
        "    List: Written with square brackets [ ]."
      ],
      "metadata": {
        "id": "EUU7cKOC8Liv"
      }
    },
    {
      "cell_type": "code",
      "source": [
        "my_list = [1, 2, 3]\n"
      ],
      "metadata": {
        "id": "Odue7zvu8fOd"
      },
      "execution_count": null,
      "outputs": []
    },
    {
      "cell_type": "markdown",
      "source": [
        "    Tuple: Written with parentheses ( )."
      ],
      "metadata": {
        "id": "N5CI5LRo8h2Q"
      }
    },
    {
      "cell_type": "code",
      "source": [
        "my_tuple = (1, 2, 3)\n"
      ],
      "metadata": {
        "id": "WStsk9-Q8lHN"
      },
      "execution_count": null,
      "outputs": []
    },
    {
      "cell_type": "markdown",
      "source": [
        "Performance\n",
        "\n",
        "    List: Slower (because it supports many operations like append, insert, remove).\n",
        "\n",
        "    Tuple: Faster (because it is fixed and does not allow modifications).\n",
        "\n",
        "Usage\n",
        "\n",
        "    List: Used when you need a collection that can change (e.g., shopping cart items).\n",
        "\n",
        "    Tuple: Used when data should stay constant (e.g., coordinates (x, y)).\n",
        "\n",
        "Example:"
      ],
      "metadata": {
        "id": "gJuk-ZRH8pnw"
      }
    },
    {
      "cell_type": "code",
      "source": [
        "# List example\n",
        "my_list = [10, 20, 30]\n",
        "my_list[0] = 100   # Works\n",
        "print(my_list)     # [100, 20, 30]\n",
        "\n",
        "# Tuple example\n",
        "my_tuple = (10, 20, 30)\n",
        "# my_tuple[0] = 100   # ❌ Error (cannot modify)\n",
        "print(my_tuple)     # (10, 20, 30)\n"
      ],
      "metadata": {
        "id": "63ofEAZ48yYT"
      },
      "execution_count": null,
      "outputs": []
    },
    {
      "cell_type": "markdown",
      "source": [
        "Question 4. Describe how dictionaries store data .\n",
        "\n",
        "Key–Value Pairs\n",
        "\n",
        "    A dictionary stores data as pairs:\n",
        "    Key → Value\n",
        "    \n",
        "Example:"
      ],
      "metadata": {
        "id": "pthe9a2I83LJ"
      }
    },
    {
      "cell_type": "code",
      "source": [
        "student = {\"name\": \"Karan\", \"age\": 20}\n"
      ],
      "metadata": {
        "id": "NWDq46Zs9Sup"
      },
      "execution_count": null,
      "outputs": []
    },
    {
      "cell_type": "markdown",
      "source": [
        "    \"name\" is a key, \"Karan\" is its value.\n",
        "\n",
        "    \"age\" is a key, 20 is its value.\n",
        "\n",
        "Unique Keys\n",
        "\n",
        "    Each key must be unique.\n",
        "\n",
        "    Values can be duplicated, but keys cannot.\n",
        "\n",
        "Fast Lookup\n",
        "\n",
        "    Dictionaries use a system called a hash table.\n",
        "\n",
        "    This makes finding a value by its key very fast (like looking up a word in a dictionary).\n",
        "\n",
        "Unordered (but keeps insertion order in Python 3.7+)\n",
        "\n",
        "    Dictionaries don’t store items by position like lists.\n",
        "\n",
        "    Instead, they store items by keys.\n",
        "\n",
        "Example:"
      ],
      "metadata": {
        "id": "jjS9k9g99abK"
      }
    },
    {
      "cell_type": "code",
      "source": [
        "person = {\"name\": \"Amit\", \"age\": 25, \"city\": \"Delhi\"}\n",
        "\n",
        "print(person[\"name\"])  # Output: Amit\n",
        "print(person[\"city\"])  # Output: Delhi\n"
      ],
      "metadata": {
        "id": "Sgx3FpW89sIN"
      },
      "execution_count": null,
      "outputs": []
    },
    {
      "cell_type": "markdown",
      "source": [
        "    So, dictionaries = fast, key-based storage."
      ],
      "metadata": {
        "id": "q8skQG349zFJ"
      }
    },
    {
      "cell_type": "markdown",
      "source": [
        "Question 5. Why might you use a set instead of a list in Python ?\n",
        "\n",
        "No Duplicates\n",
        "\n",
        "    Set: Automatically removes duplicate values.\n",
        "\n",
        "    List: Allows duplicates."
      ],
      "metadata": {
        "id": "swmxAk5I96tl"
      }
    },
    {
      "cell_type": "code",
      "source": [
        "my_list = [1, 2, 2, 3]\n",
        "my_set = {1, 2, 2, 3}\n",
        "print(my_list)  # [1, 2, 2, 3]\n",
        "print(my_set)   # {1, 2, 3}\n"
      ],
      "metadata": {
        "id": "nfLTR9qp-Sjr"
      },
      "execution_count": null,
      "outputs": []
    },
    {
      "cell_type": "markdown",
      "source": [
        "Faster Lookup\n",
        "\n",
        "    Checking if an item exists is much faster in a set than in a list."
      ],
      "metadata": {
        "id": "dO-v6TRp-XjU"
      }
    },
    {
      "cell_type": "code",
      "source": [
        "5 in [1,2,3,4,5]   # slower\n",
        "5 in {1,2,3,4,5}   # faster\n"
      ],
      "metadata": {
        "id": "GIwpse4l-cTp"
      },
      "execution_count": null,
      "outputs": []
    },
    {
      "cell_type": "markdown",
      "source": [
        "Mathematical Operations\n",
        "\n",
        "    Sets support operations like union, intersection, difference (like in math)."
      ],
      "metadata": {
        "id": "r4-gBQ7V-gv6"
      }
    },
    {
      "cell_type": "code",
      "source": [
        "a = {1, 2, 3}\n",
        "b = {3, 4, 5}\n",
        "print(a & b)  # {3} (intersection)\n",
        "print(a | b)  # {1, 2, 3, 4, 5} (union)\n"
      ],
      "metadata": {
        "id": "dypl5iF4-k5j"
      },
      "execution_count": null,
      "outputs": []
    },
    {
      "cell_type": "markdown",
      "source": [
        "So, you use a set when you:\n",
        "\n",
        "    Want unique items only.\n",
        "\n",
        "    Need fast checking if something exists.\n",
        "\n",
        "    Want to do math-like operations on collections."
      ],
      "metadata": {
        "id": "CabyHCQ--oal"
      }
    },
    {
      "cell_type": "markdown",
      "source": [
        "Question 6. What is a string in Python, and how is it different from a list ?\n",
        "\n",
        "    A string in Python is a sequence of characters (letters, numbers, symbols).\n",
        "\n",
        "    Written inside quotes: \"hello\", 'Python'.\n",
        "\n",
        "Example:"
      ],
      "metadata": {
        "id": "1mwvODEz-2EA"
      }
    },
    {
      "cell_type": "code",
      "source": [
        "my_string = \"Hello\"\n",
        "print(my_string)   # Hello\n"
      ],
      "metadata": {
        "id": "Vk2noaJl_PJa"
      },
      "execution_count": null,
      "outputs": []
    },
    {
      "cell_type": "markdown",
      "source": [
        "How is a string different from a list?"
      ],
      "metadata": {
        "id": "88YEjkMQ_Xuf"
      }
    },
    {
      "cell_type": "markdown",
      "source": [
        "| Feature               | **String**                                      | **List**                                          |\n",
        "| --------------------- | ----------------------------------------------- | ------------------------------------------------- |\n",
        "| **Contents**          | Stores **characters**                           | Stores **any data type** (numbers, strings, etc.) |\n",
        "| **Mutability**        | ❌ Immutable (cannot change characters directly) | ✅ Mutable (can add, remove, or change items)      |\n",
        "| **Syntax**            | `\"hello\"` or `'world'`                          | `[1, 2, 3, \"hi\"]`                                 |\n",
        "| **Example of change** | Not allowed: `\"hello\"[0] = \"H\"` → ❌ Error       | Allowed: `[1, 2, 3][0] = 100` → ✅ `[100, 2, 3]`   |\n"
      ],
      "metadata": {
        "id": "IXjbDl-k_a0M"
      }
    },
    {
      "cell_type": "markdown",
      "source": [
        "Example Difference:"
      ],
      "metadata": {
        "id": "cT8o8yGa_hDX"
      }
    },
    {
      "cell_type": "code",
      "source": [
        "# String\n",
        "word = \"cat\"\n",
        "# word[0] = \"b\"   ❌ Error\n",
        "print(word)       # \"cat\"\n",
        "\n",
        "# List\n",
        "animals = [\"cat\", \"dog\", \"cow\"]\n",
        "animals[0] = \"bat\"  # ✅ Works\n",
        "print(animals)      # ['bat', 'dog', 'cow']\n"
      ],
      "metadata": {
        "id": "GK63uQ58Av4k"
      },
      "execution_count": null,
      "outputs": []
    },
    {
      "cell_type": "markdown",
      "source": [
        "So:\n",
        "\n",
        "    String = text, fixed, immutable.\n",
        "\n",
        "    List = collection, flexible, mutable."
      ],
      "metadata": {
        "id": "VMkLqZNAAz6o"
      }
    },
    {
      "cell_type": "markdown",
      "source": [
        "Question 7. How do tuples ensure data integrity in Python ?\n",
        "\n",
        "Immutability\n",
        "\n",
        "    Tuples are immutable → once created, their elements cannot be changed, added, or removed.\n",
        "\n",
        "    This prevents accidental changes to important data.\n",
        "\n",
        "Safe Storage\n",
        "\n",
        "    If you want data to stay constant and secure, putting it in a tuple ensures it won’t be modified by mistake.\n",
        "\n",
        "Reliable Keys in Dictionaries/Sets\n",
        "\n",
        "    Because tuples never change, they can be used as keys in dictionaries or elements in sets (lists can’t be).\n",
        "\n",
        "Example:"
      ],
      "metadata": {
        "id": "c9zLKpprA8Ce"
      }
    },
    {
      "cell_type": "code",
      "source": [
        "# Tuple ensures data integrity\n",
        "coordinates = (28.6, 77.2)   # latitude & longitude\n",
        "\n",
        "# ❌ Not allowed\n",
        "# coordinates[0] = 30.0   # Error: can't modify tuple\n",
        "\n",
        "print(coordinates)  # (28.6, 77.2) → stays safe\n"
      ],
      "metadata": {
        "id": "iqi6RTnDBZKV"
      },
      "execution_count": null,
      "outputs": []
    },
    {
      "cell_type": "markdown",
      "source": [
        "    So, tuples ensure data integrity because they are unchangeable → perfect for storing fixed, important, or constant data."
      ],
      "metadata": {
        "id": "X84kQvtRBeRb"
      }
    },
    {
      "cell_type": "markdown",
      "source": [
        "Question 8. What is a hash table, and how does it relate to dictionaries in Python ?\n",
        "\n",
        "    A hash table is a data structure that stores data in key–value pairs.\n",
        "\n",
        "    It uses a hash function to convert each key into an index (a number) in an underlying array.\n",
        "\n",
        "    This allows data to be inserted, searched, and retrieved very quickly (on average in O(1) time).\n",
        "\n",
        "    In Python, the built-in dictionary (dict) is implemented using a hash table.\n",
        "\n",
        "    When you create a dictionary like my_dict = {\"name\": \"Karan\", \"age\": 29}, Python uses hashing internally to store and quickly access values using their keys.\n",
        "\n",
        "    That’s why dictionary lookups (my_dict[\"name\"]) are very fast.\n",
        "\n",
        "    In short: Hash table = concept, Dictionary = Python’s implementation of it."
      ],
      "metadata": {
        "id": "cFOZm7RPq_sS"
      }
    },
    {
      "cell_type": "markdown",
      "source": [
        "Question 9. Can lists contain different data types in Python ?\n",
        "\n",
        "    Yes. In Python, a list can contain elements of different data types.\n",
        "    \n",
        "For example:"
      ],
      "metadata": {
        "id": "IEP6s6P_rcYo"
      }
    },
    {
      "cell_type": "code",
      "source": [
        "my_list = [10, \"hello\", 3.14, True]\n",
        "print(my_list)\n"
      ],
      "metadata": {
        "id": "ba2Yg2-IrsYA"
      },
      "execution_count": null,
      "outputs": []
    },
    {
      "cell_type": "markdown",
      "source": [
        "Output:\n",
        "\n",
        "    [10, 'hello', 3.14, True]\n",
        "\n",
        "Here the list has:\n",
        "\n",
        "    an integer (10),\n",
        "\n",
        "    a string (\"hello\"),\n",
        "\n",
        "    a float (3.14),\n",
        "\n",
        "    a boolean (True).\n",
        "\n",
        "    So, lists in Python are flexible and can hold mixed data types.\n"
      ],
      "metadata": {
        "id": "A8NEaIrYrugw"
      }
    },
    {
      "cell_type": "markdown",
      "source": [
        "Question 10. Explain why strings are immutable in Python .\n",
        "\n",
        "    Strings in Python are immutable, meaning once you create a string, you cannot change its characters directly.\n",
        "\n",
        "Why?\n",
        "\n",
        "    Memory efficiency – Many programs reuse the same string. If strings were changeable, Python would need to create copies each time, wasting memory.\n",
        "\n",
        "    Hashing support – Strings are often used as keys in dictionaries (which are hash tables). For keys to stay reliable, they must never change.\n",
        "\n",
        "    Safety – If one part of a program changes a string, other parts using the same string would be affected. Immutability prevents unexpected changes.\n",
        "\n",
        "Example:"
      ],
      "metadata": {
        "id": "QbHU6Aj5r_fF"
      }
    },
    {
      "cell_type": "code",
      "source": [
        "s = \"hello\"\n",
        "s[0] = \"H\"   # ❌ Error: 'str' object does not support item assignment\n"
      ],
      "metadata": {
        "id": "1RcnhgSssR90"
      },
      "execution_count": null,
      "outputs": []
    },
    {
      "cell_type": "markdown",
      "source": [
        "Instead, you create a new string:"
      ],
      "metadata": {
        "id": "9yFU-8cGsVbH"
      }
    },
    {
      "cell_type": "code",
      "source": [
        "s = \"H\" + s[1:]   # ✅ \"Hello\"\n"
      ],
      "metadata": {
        "id": "HXV5QoHbsX-A"
      },
      "execution_count": null,
      "outputs": []
    },
    {
      "cell_type": "markdown",
      "source": [
        "    So: Strings are immutable to keep them safe, efficient, and usable as dictionary keys."
      ],
      "metadata": {
        "id": "jSg8tWMDsca9"
      }
    },
    {
      "cell_type": "markdown",
      "source": [
        "Question 11. What advantages do dictionaries offer over lists for certain tasks ?\n",
        "\n",
        "    Dictionaries vs. Lists\n",
        "\n",
        "    A list stores values in order, accessed by their index (position).\n",
        "\n",
        "    A dictionary stores values as key–value pairs, accessed by key.\n",
        "\n",
        "Advantages of dictionaries over lists:\n",
        "\n",
        "Fast lookups 🔍\n",
        "\n",
        "    In a list, searching for a value takes time (O(n) on average).\n",
        "\n",
        "    In a dictionary, accessing by key is very fast (O(1) on average).\n",
        "\n",
        "Meaningful keys 🗝️\n",
        "\n",
        "    Lists use numbers (indexes) to access items.\n",
        "\n",
        "    Dictionaries let you use descriptive keys.\n",
        "\n",
        "Example:"
      ],
      "metadata": {
        "id": "oFT-K4pnslDw"
      }
    },
    {
      "cell_type": "code",
      "source": [
        "student = {\"name\": \"Karan\", \"age\": 29}\n",
        "# Easier than using [0], [1] in a list\n"
      ],
      "metadata": {
        "id": "LQdw8EdZtB-b"
      },
      "execution_count": null,
      "outputs": []
    },
    {
      "cell_type": "markdown",
      "source": [
        "No need to remember positions\n",
        "\n",
        "    With lists, you must know the index of a value.\n",
        "\n",
        "    With dictionaries, you can directly use the key.\n",
        "\n",
        "In short:\n",
        "\n",
        "    Use lists when order matters.\n",
        "\n",
        "    Use dictionaries when you want fast access using unique keys."
      ],
      "metadata": {
        "id": "t-6ZOqOUtFFA"
      }
    },
    {
      "cell_type": "markdown",
      "source": [
        "Question 12. Describe a scenario where using a tuple would be preferable over a list .\n",
        "\n",
        "    A tuple is preferable over a list when you want to store data that should not be changed.\n",
        "\n",
        "Example scenario:\n",
        "\n",
        "    Suppose you are storing the latitude and longitude of a city. These coordinates are fixed values and should not be modified accidentally."
      ],
      "metadata": {
        "id": "bEz73k19tUI5"
      }
    },
    {
      "cell_type": "code",
      "source": [
        "city_coordinates = (28.6139, 77.2090)  # Tuple (Delhi coordinates)\n"
      ],
      "metadata": {
        "id": "g2_M2mzHFh4k"
      },
      "execution_count": null,
      "outputs": []
    },
    {
      "cell_type": "markdown",
      "source": [
        "    Here, a tuple is better than a list because:\n",
        "\n",
        "    It prevents accidental changes (immutable).\n",
        "\n",
        "    It makes the data more reliable.\n",
        "\n",
        "    In short: Use a tuple when the data is constant, and use a list when the data may need to be updated."
      ],
      "metadata": {
        "id": "EgEL8DUbFqmk"
      }
    },
    {
      "cell_type": "markdown",
      "source": [
        "Question 13. How do sets handle duplicate values in Python ?\n",
        "\n",
        "    In Python, sets do not allow duplicate values.\n",
        "\n",
        "    If you try to add a duplicate value to a set, Python will automatically keep only one copy of that value.\n",
        "\n",
        "Example:"
      ],
      "metadata": {
        "id": "0TX1UH0jF16U"
      }
    },
    {
      "cell_type": "code",
      "source": [
        "my_set = {1, 2, 2, 3, 4, 4}\n",
        "print(my_set)\n"
      ],
      "metadata": {
        "id": "7uO07Oh5GLVS"
      },
      "execution_count": null,
      "outputs": []
    },
    {
      "cell_type": "markdown",
      "source": [
        "Output:\n",
        "\n",
        "    {1, 2, 3, 4}\n"
      ],
      "metadata": {
        "id": "roUdaTAZGN8o"
      }
    },
    {
      "cell_type": "markdown",
      "source": [
        "    So, sets automatically remove duplicates and store only unique elements."
      ],
      "metadata": {
        "id": "_V2NdWo2GUzd"
      }
    },
    {
      "cell_type": "markdown",
      "source": [
        "Question 14. How does the “in” keyword work differently for lists and dictionaries ?\n",
        "\n",
        "    The in keyword checks if something exists, but it works a bit differently for lists and dictionaries:\n",
        "\n",
        "For lists:\n",
        "\n",
        "It checks if the value is present in the list elements."
      ],
      "metadata": {
        "id": "UmyVyvuaGeR6"
      }
    },
    {
      "cell_type": "code",
      "source": [
        "my_list = [1, 2, 3, 4]\n",
        "print(2 in my_list)   # True (because 2 is in the list)\n",
        "print(5 in my_list)   # False\n"
      ],
      "metadata": {
        "id": "d6hTJ2HOGwE3"
      },
      "execution_count": null,
      "outputs": []
    },
    {
      "cell_type": "markdown",
      "source": [
        "For dictionaries:\n",
        "\n",
        "    It checks if the value is a key in the dictionary, not the value."
      ],
      "metadata": {
        "id": "lR4hrLQnG0Mt"
      }
    },
    {
      "cell_type": "code",
      "source": [
        "my_dict = {\"a\": 1, \"b\": 2}\n",
        "print(\"a\" in my_dict)   # True (key exists)\n",
        "print(1 in my_dict)     # False (1 is a value, not a key)\n"
      ],
      "metadata": {
        "id": "Ct2FaYrwG84Y"
      },
      "execution_count": null,
      "outputs": []
    },
    {
      "cell_type": "markdown",
      "source": [
        "So:\n",
        "\n",
        "    in with lists → looks for values.\n",
        "\n",
        "    in with dictionaries → looks for keys."
      ],
      "metadata": {
        "id": "VEWAuHnwHBpB"
      }
    },
    {
      "cell_type": "markdown",
      "source": [
        "Question 15. Can you modify the elements of a tuple? Explain why or why not ?\n",
        "\n",
        "    No, you cannot modify the elements of a tuple in Python.\n",
        "\n",
        "    This is because tuples are immutable, meaning once they are created, their elements cannot be changed, added, or removed.\n",
        "\n",
        "Example:"
      ],
      "metadata": {
        "id": "CJPm5oMqHK-u"
      }
    },
    {
      "cell_type": "code",
      "source": [
        "my_tuple = (10, 20, 30)\n",
        "my_tuple[1] = 50   # Trying to change 20 to 50\n"
      ],
      "metadata": {
        "id": "gFLG0npqHdnQ"
      },
      "execution_count": null,
      "outputs": []
    },
    {
      "cell_type": "markdown",
      "source": [
        "Output:\n",
        "\n",
        "    TypeError: 'tuple' object does not support item assignment\n",
        "\n",
        "Reason:\n",
        "\n",
        "    Immutability makes tuples useful for fixed data (like coordinates, days of the week, or constant settings) where values should stay the same.\n"
      ],
      "metadata": {
        "id": "jMUqdjC2HgVh"
      }
    },
    {
      "cell_type": "markdown",
      "source": [
        "Question 16. What is a nested dictionary, and give an example of its use case ?\n",
        "\n",
        "    A nested dictionary is a dictionary inside another dictionary.\n",
        "    It lets you store data in a hierarchical (layered) way.\n",
        "\n",
        "Example:\n",
        "\n",
        "    A dictionary to store student information:"
      ],
      "metadata": {
        "id": "PsKyS8rWIX3i"
      }
    },
    {
      "cell_type": "code",
      "source": [
        "students = {\n",
        "    \"John\": {\"age\": 20, \"grade\": \"A\"},\n",
        "    \"Sara\": {\"age\": 19, \"grade\": \"B\"}\n",
        "}\n",
        "\n",
        "print(students[\"John\"][\"grade\"])  # Output: A\n"
      ],
      "metadata": {
        "id": "ufqF6tsLI1PD"
      },
      "execution_count": null,
      "outputs": []
    },
    {
      "cell_type": "markdown",
      "source": [
        "    Here, each student’s details (age, grade) are stored in an inner dictionary, and all students are grouped in the outer dictionary.\n",
        "\n",
        "Use case:\n",
        "\n",
        "    Storing structured data like student records, employee details, or configuration settings"
      ],
      "metadata": {
        "id": "BVJYr-yaI8rZ"
      }
    },
    {
      "cell_type": "markdown",
      "source": [
        "Question 17. Describe the time complexity of accessing elements in a dictionary .\n",
        "\n",
        "    Accessing elements in a dictionary in Python is generally O(1) time complexity (constant time).\n",
        "\n",
        "Reason:\n",
        "\n",
        "    Dictionaries use hash tables internally. When you access an element using a key, Python:\n",
        "\n",
        "    Computes the hash value of the key.\n",
        "\n",
        "    Uses it to directly locate the value in memory.\n",
        "\n",
        "Note:\n",
        "\n",
        "    In the worst case (when many keys have the same hash and collisions occur), accessing can degrade to O(n). But with Python’s optimized hashing, this happens very rarely.\n",
        "\n",
        "    So, the average time complexity of accessing an element in a dictionary is O(1)."
      ],
      "metadata": {
        "id": "D6OlHJ9sOvcM"
      }
    },
    {
      "cell_type": "markdown",
      "source": [
        "Question 18. In what situations are lists preferred over dictionaries ?\n",
        "\n",
        "    Situations where lists are preferred over dictionaries:\n",
        "\n",
        "Order matters →\n",
        "\n",
        "    If you care about the order of elements (like 1st, 2nd, 3rd item), lists are better.\n",
        "\n",
        "    Example: storing student marks [78, 85, 92].\n",
        "\n",
        "No key-value mapping needed →\n",
        "\n",
        "\n",
        "    If you just need a sequence of items, lists are simpler.\n",
        "\n",
        "    Example: a shopping list [\"milk\", \"bread\", \"eggs\"].\n",
        "\n",
        "Duplicate values allowed →\n",
        "\n",
        "    Lists can store the same value multiple times.\n",
        "\n",
        "    Example: [2, 2, 3, 5].\n",
        "\n",
        "Index-based access →\n",
        "\n",
        "    If you want to access items by position (mylist[0]), you need a list.\n",
        "\n",
        "    Summary: Use a list when you only need to store items in order, allow duplicates, and access them by index."
      ],
      "metadata": {
        "id": "8kDIv1mOPS50"
      }
    },
    {
      "cell_type": "markdown",
      "source": [
        "Question 19. Why are dictionaries considered unordered, and how does that affect data retrieval ?\n",
        "\n",
        "    A dictionary stores data as key → value pairs, using a hash table.\n",
        "\n",
        "    The placement of items depends on the hash value of the key, not on the order you added them.\n",
        "\n",
        "    That’s why you can’t rely on the order of items (like 1st, 2nd, 3rd).\n",
        "\n",
        "How it affects data retrieval\n",
        "\n",
        "    Since order doesn’t matter, you cannot access items by index (like dict[0] won’t work).\n",
        "\n",
        "    You must always retrieve values using their keys (dict[\"name\"]).\n",
        "\n",
        "    The benefit: retrieval is very fast (O(1) on average).\n",
        "\n",
        "    Summary: Dictionaries are unordered because they’re organized by hash values, not positions. This makes them super fast for lookup, but you can’t use index numbers like in a list."
      ],
      "metadata": {
        "id": "MOthEf5gP5Ts"
      }
    },
    {
      "cell_type": "markdown",
      "source": [
        "Question 20. Explain the difference between a list and a dictionary in terms of data retrieval.\n",
        "\n",
        "List\n",
        "\n",
        "    Data is retrieved by index (position).\n",
        "\n",
        "Example:"
      ],
      "metadata": {
        "id": "a9gG1rpFQayB"
      }
    },
    {
      "cell_type": "code",
      "source": [
        "mylist = [\"apple\", \"banana\", \"cherry\"]\n",
        "print(mylist[1])   # \"banana\"\n"
      ],
      "metadata": {
        "id": "KKWImol_QnWl"
      },
      "execution_count": null,
      "outputs": []
    },
    {
      "cell_type": "markdown",
      "source": [
        "    You must know the position of the item.\n",
        "\n",
        "Dictionary\n",
        "\n",
        "    Data is retrieved by key.\n",
        "\n",
        "Example:"
      ],
      "metadata": {
        "id": "Rl0foe0UQryB"
      }
    },
    {
      "cell_type": "code",
      "source": [
        "mydict = {\"a\": \"apple\", \"b\": \"banana\", \"c\": \"cherry\"}\n",
        "print(mydict[\"b\"])   # \"banana\"\n"
      ],
      "metadata": {
        "id": "aXOcLQEfQwE4"
      },
      "execution_count": null,
      "outputs": []
    },
    {
      "cell_type": "markdown",
      "source": [
        "    You don’t care about the position, just use the key.\n",
        "\n",
        "Summary:\n",
        "\n",
        "    List → retrieval by position (index).\n",
        "\n",
        "    Dictionary → retrieval by key (name/label)."
      ],
      "metadata": {
        "id": "SNF274sXQ0EZ"
      }
    },
    {
      "cell_type": "markdown",
      "source": [
        "## Practical Questions"
      ],
      "metadata": {
        "id": "Sh24iNqDWm9J"
      }
    },
    {
      "cell_type": "markdown",
      "source": [
        "Question 1. Write a code to create a string with your name and print it."
      ],
      "metadata": {
        "id": "nip0vBPqWu6D"
      }
    },
    {
      "cell_type": "code",
      "source": [
        "# Create a string with your name\n",
        "name = \"Karan Singh Bisht\"\n",
        "\n",
        "# Print the string\n",
        "print(name)\n"
      ],
      "metadata": {
        "id": "5o4gAhMFW6ei"
      },
      "execution_count": null,
      "outputs": []
    },
    {
      "cell_type": "markdown",
      "source": [
        "Question 2. Write a code to find the length of the string \"Hello World\" ."
      ],
      "metadata": {
        "id": "Gqo6gRiiW-Xf"
      }
    },
    {
      "cell_type": "code",
      "source": [
        "# String\n",
        "text = \"Hello World\"\n",
        "\n",
        "# Find length using len()\n",
        "length = len(text)\n",
        "\n",
        "# Print result\n",
        "print(\"Length of the string is:\", length)\n"
      ],
      "metadata": {
        "id": "Yn6QRaaWXErY"
      },
      "execution_count": null,
      "outputs": []
    },
    {
      "cell_type": "markdown",
      "source": [
        "Output:\n",
        "\n",
        "    Length of the string is: 11\n"
      ],
      "metadata": {
        "id": "mjLCiXdbXKPU"
      }
    },
    {
      "cell_type": "markdown",
      "source": [
        "Question 3. Write a code to slice the first 3 characters from the string \"Python Programming\" ."
      ],
      "metadata": {
        "id": "aFi_ot40XVhZ"
      }
    },
    {
      "cell_type": "code",
      "source": [
        "# String\n",
        "text = \"Python Programming\"\n",
        "\n",
        "# Slice first 3 characters\n",
        "sliced_text = text[:3]\n",
        "\n",
        "# Print result\n",
        "print(\"First 3 characters are:\", sliced_text)\n"
      ],
      "metadata": {
        "id": "NSHTVIL9XfCQ"
      },
      "execution_count": null,
      "outputs": []
    },
    {
      "cell_type": "markdown",
      "source": [
        "Output:\n",
        "\n",
        "    First 3 characters are: Pyt\n"
      ],
      "metadata": {
        "id": "PKTXpd1RXh6A"
      }
    },
    {
      "cell_type": "markdown",
      "source": [
        "Question 4. Write a code to convert the string \"hello\" to uppercase ."
      ],
      "metadata": {
        "id": "jpBv7YeYX2og"
      }
    },
    {
      "cell_type": "code",
      "source": [
        "# String\n",
        "text = \"hello\"\n",
        "\n",
        "# Convert to uppercase\n",
        "upper_text = text.upper()\n",
        "\n",
        "# Print result\n",
        "print(\"Uppercase:\", upper_text)\n"
      ],
      "metadata": {
        "id": "dG2bEO9oYAdX"
      },
      "execution_count": null,
      "outputs": []
    },
    {
      "cell_type": "markdown",
      "source": [
        "Output:\n",
        "\n",
        "    Uppercase: HELLO\n"
      ],
      "metadata": {
        "id": "PQG8GcrMYCrv"
      }
    },
    {
      "cell_type": "markdown",
      "source": [
        "Question 5. Write a code to replace the word \"apple\" with \"orange\" in the string \"I like apple\" ."
      ],
      "metadata": {
        "id": "zTaG-jlWYJuK"
      }
    },
    {
      "cell_type": "code",
      "source": [
        "# String\n",
        "text = \"I like apple\"\n",
        "\n",
        "# Replace 'apple' with 'orange'\n",
        "new_text = text.replace(\"apple\", \"orange\")\n",
        "\n",
        "# Print result\n",
        "print(\"Updated string:\", new_text)\n"
      ],
      "metadata": {
        "id": "XeLht1KQYUsv"
      },
      "execution_count": null,
      "outputs": []
    },
    {
      "cell_type": "markdown",
      "source": [
        "Output:\n",
        "\n",
        "    Updated string: I like orange\n"
      ],
      "metadata": {
        "id": "PcXnaG21YXHR"
      }
    },
    {
      "cell_type": "markdown",
      "source": [
        "Question 6. Write a code to create a list with numbers 1 to 5 and print it ."
      ],
      "metadata": {
        "id": "w9Pj-qL6Yf6j"
      }
    },
    {
      "cell_type": "code",
      "source": [
        "# Create a list with numbers 1 to 5\n",
        "numbers = [1, 2, 3, 4, 5]\n",
        "\n",
        "# Print the list\n",
        "print(\"List:\", numbers)\n"
      ],
      "metadata": {
        "id": "O6aOwHLGYp_J"
      },
      "execution_count": null,
      "outputs": []
    },
    {
      "cell_type": "markdown",
      "source": [
        "Output:\n",
        "\n",
        "    List: [1, 2, 3, 4, 5]\n"
      ],
      "metadata": {
        "id": "uPjkkQtVYsGI"
      }
    },
    {
      "cell_type": "markdown",
      "source": [
        "Question 7. Write a code to append the number 10 to the list [1, 2, 3, 4] ."
      ],
      "metadata": {
        "id": "OgnNmuVyax-n"
      }
    },
    {
      "cell_type": "code",
      "source": [
        "# Original list\n",
        "numbers = [1, 2, 3, 4]\n",
        "\n",
        "# Append 10\n",
        "numbers.append(10)\n",
        "\n",
        "# Print updated list\n",
        "print(\"Updated list:\", numbers)\n"
      ],
      "metadata": {
        "id": "a3BD1jlwa5Zu"
      },
      "execution_count": null,
      "outputs": []
    },
    {
      "cell_type": "markdown",
      "source": [
        "Output:\n",
        "\n",
        "    Updated list: [1, 2, 3, 4, 10]\n"
      ],
      "metadata": {
        "id": "XN1qPWFda8RB"
      }
    },
    {
      "cell_type": "markdown",
      "source": [
        "Question 8. Write a code to remove the number 3 from the list [1, 2, 3, 4, 5] ."
      ],
      "metadata": {
        "id": "f5KE_fmybKiX"
      }
    },
    {
      "cell_type": "code",
      "source": [
        "# Original list\n",
        "numbers = [1, 2, 3, 4, 5]\n",
        "\n",
        "# Remove 3\n",
        "numbers.remove(3)\n",
        "\n",
        "# Print updated list\n",
        "print(\"Updated list:\", numbers)\n"
      ],
      "metadata": {
        "id": "mX_s9OijbTXO"
      },
      "execution_count": null,
      "outputs": []
    },
    {
      "cell_type": "markdown",
      "source": [
        "Output:\n",
        "\n",
        "    Updated list: [1, 2, 4, 5]\n"
      ],
      "metadata": {
        "id": "86DqRdUvbWuh"
      }
    },
    {
      "cell_type": "markdown",
      "source": [
        "Question 9. Write a code to access the second element in the list ['a', 'b', 'c', 'd'] ."
      ],
      "metadata": {
        "id": "j1xsxhlFbeWh"
      }
    },
    {
      "cell_type": "code",
      "source": [
        "# List\n",
        "letters = ['a', 'b', 'c', 'd']\n",
        "\n",
        "# Access second element (index 1)\n",
        "second_element = letters[1]\n",
        "\n",
        "# Print result\n",
        "print(\"Second element:\", second_element)\n"
      ],
      "metadata": {
        "id": "B28CuNnKbmxb"
      },
      "execution_count": null,
      "outputs": []
    },
    {
      "cell_type": "markdown",
      "source": [
        "Output:\n",
        "\n",
        "    Second element: b\n"
      ],
      "metadata": {
        "id": "mvNCfcbRbo-C"
      }
    },
    {
      "cell_type": "markdown",
      "source": [
        "Question 10. Write a code to reverse the list [10, 20, 30, 40, 50]."
      ],
      "metadata": {
        "id": "JQ31Onfnbv0s"
      }
    },
    {
      "cell_type": "code",
      "source": [
        "# Original list\n",
        "numbers = [10, 20, 30, 40, 50]\n",
        "\n",
        "# Reverse the list\n",
        "numbers.reverse()\n",
        "\n",
        "# Print reversed list\n",
        "print(\"Reversed list:\", numbers)\n"
      ],
      "metadata": {
        "id": "uwXXlNOBb5Zy"
      },
      "execution_count": null,
      "outputs": []
    },
    {
      "cell_type": "markdown",
      "source": [
        "Output:\n",
        "\n",
        "    Reversed list: [50, 40, 30, 20, 10]\n"
      ],
      "metadata": {
        "id": "tj3oMHDfb7nC"
      }
    },
    {
      "cell_type": "markdown",
      "source": [
        "11. Write a code to create a tuple with the elements 100, 200, 300 and print it."
      ],
      "metadata": {
        "id": "DdqlOzfpcOnt"
      }
    },
    {
      "cell_type": "code",
      "source": [
        "# Create a tuple\n",
        "numbers = (100, 200, 300)\n",
        "\n",
        "# Print the tuple\n",
        "print(\"Tuple:\", numbers)\n"
      ],
      "metadata": {
        "id": "IQAfAiZQcTC_"
      },
      "execution_count": null,
      "outputs": []
    },
    {
      "cell_type": "markdown",
      "source": [
        "Output:\n",
        "\n",
        "    Tuple: (100, 200, 300)\n"
      ],
      "metadata": {
        "id": "0U2zpl_tcVi9"
      }
    },
    {
      "cell_type": "markdown",
      "source": [
        " 12. Write a code to access the second-to-last element of the tuple ('red', 'green', 'blue', 'yellow')."
      ],
      "metadata": {
        "id": "9uBdSJfScdMJ"
      }
    },
    {
      "cell_type": "code",
      "source": [
        "# Tuple\n",
        "colors = ('red', 'green', 'blue', 'yellow')\n",
        "\n",
        "# Access second-to-last element using negative indexing\n",
        "second_last = colors[-2]\n",
        "\n",
        "# Print result\n",
        "print(\"Second-to-last element:\", second_last)\n"
      ],
      "metadata": {
        "id": "C_j46EMHchUx"
      },
      "execution_count": null,
      "outputs": []
    },
    {
      "cell_type": "markdown",
      "source": [
        "Output:\n",
        "\n",
        "    Second-to-last element: blue\n"
      ],
      "metadata": {
        "id": "O0v_w-CfcjmS"
      }
    },
    {
      "cell_type": "markdown",
      "source": [
        " 13. Write a code to find the minimum number in the tuple (10, 20, 5, 15)."
      ],
      "metadata": {
        "id": "Km03nRa6cqCb"
      }
    },
    {
      "cell_type": "code",
      "source": [
        "# Tuple\n",
        "numbers = (10, 20, 5, 15)\n",
        "\n",
        "# Find minimum\n",
        "min_num = min(numbers)\n",
        "\n",
        "# Print result\n",
        "print(\"Minimum number:\", min_num)\n"
      ],
      "metadata": {
        "id": "VzSDK-d-cv7R"
      },
      "execution_count": null,
      "outputs": []
    },
    {
      "cell_type": "markdown",
      "source": [
        "Output:\n",
        "\n",
        "    Minimum number: 5\n"
      ],
      "metadata": {
        "id": "RmQwdoUAcyTS"
      }
    },
    {
      "cell_type": "markdown",
      "source": [
        " 14. Write a code to find the index of the element \"cat\" in the tuple ('dog', 'cat', 'rabbit')."
      ],
      "metadata": {
        "id": "TeiSPQ6Gc-MJ"
      }
    },
    {
      "cell_type": "code",
      "source": [
        "# Tuple\n",
        "animals = ('dog', 'cat', 'rabbit')\n",
        "\n",
        "# Find index of \"cat\"\n",
        "index_cat = animals.index(\"cat\")\n",
        "\n",
        "# Print result\n",
        "print(\"Index of 'cat':\", index_cat)\n"
      ],
      "metadata": {
        "id": "gpLxYtQVdCrZ"
      },
      "execution_count": null,
      "outputs": []
    },
    {
      "cell_type": "markdown",
      "source": [
        "Output:\n",
        "\n",
        "    Index of 'cat': 1\n"
      ],
      "metadata": {
        "id": "y4-BWq3ddE3n"
      }
    },
    {
      "cell_type": "markdown",
      "source": [
        "15. Write a code to create a tuple containing three different fruits and check if \"kiwi\" is in it."
      ],
      "metadata": {
        "id": "kB7hXS9PdRA_"
      }
    },
    {
      "cell_type": "code",
      "source": [
        "# Create a tuple with fruits\n",
        "fruits = (\"apple\", \"banana\", \"mango\")\n",
        "\n",
        "# Check if \"kiwi\" is in the tuple\n",
        "if \"kiwi\" in fruits:\n",
        "    print(\"Kiwi is in the tuple.\")\n",
        "else:\n",
        "    print(\"Kiwi is not in the tuple.\")\n"
      ],
      "metadata": {
        "id": "M4I1HE-GdU8u"
      },
      "execution_count": null,
      "outputs": []
    },
    {
      "cell_type": "markdown",
      "source": [
        "Output:\n",
        "\n",
        "    Kiwi is not in the tuple.\n"
      ],
      "metadata": {
        "id": "GN5tDiXddX5X"
      }
    },
    {
      "cell_type": "markdown",
      "source": [
        " 16. Write a code to create a set with the elements 'a', 'b', 'c' and print it."
      ],
      "metadata": {
        "id": "qUZRXRMGkIJn"
      }
    },
    {
      "cell_type": "code",
      "source": [
        "# Creating a set with elements 'a', 'b', 'c'\n",
        "my_set = {'a', 'b', 'c'}\n",
        "\n",
        "# Printing the set\n",
        "print(my_set)\n"
      ],
      "metadata": {
        "id": "O9L2v_AKkUQf"
      },
      "execution_count": null,
      "outputs": []
    },
    {
      "cell_type": "markdown",
      "source": [
        "    Note: Sets are unordered, so the output may appear as {'b', 'a', 'c'} or in any order."
      ],
      "metadata": {
        "id": "X6aXYT-skYzl"
      }
    },
    {
      "cell_type": "markdown",
      "source": [
        " 17. Write a code to clear all elements from the set {1, 2, 3, 4, 5}."
      ],
      "metadata": {
        "id": "faCFmCObkgxv"
      }
    },
    {
      "cell_type": "code",
      "source": [
        "# Creating a set\n",
        "my_set = {1, 2, 3, 4, 5}\n",
        "\n",
        "# Clearing all elements\n",
        "my_set.clear()\n",
        "\n",
        "# Printing the set\n",
        "print(my_set)\n"
      ],
      "metadata": {
        "id": "yjX4uJAokke4"
      },
      "execution_count": null,
      "outputs": []
    },
    {
      "cell_type": "markdown",
      "source": [
        "Output:\n",
        "\n",
        "    set()\n"
      ],
      "metadata": {
        "id": "SXuGCzEGkmSv"
      }
    },
    {
      "cell_type": "markdown",
      "source": [
        " 18. Write a code to remove the element 4 from the set {1, 2, 3, 4}."
      ],
      "metadata": {
        "id": "rvE2uU7-kuyc"
      }
    },
    {
      "cell_type": "code",
      "source": [
        "# Creating a set\n",
        "my_set = {1, 2, 3, 4}\n",
        "\n",
        "# Removing element 4\n",
        "my_set.remove(4)\n",
        "\n",
        "# Printing the updated set\n",
        "print(my_set)\n"
      ],
      "metadata": {
        "id": "9--3y6QflepF"
      },
      "execution_count": null,
      "outputs": []
    },
    {
      "cell_type": "markdown",
      "source": [
        "Output:\n",
        "\n",
        "    {1, 2, 3}\n"
      ],
      "metadata": {
        "id": "8AKCcRYClhVf"
      }
    },
    {
      "cell_type": "markdown",
      "source": [
        "    Note: If you try to remove an element that does not exist, remove() will give an error.\n",
        "    If you want to avoid errors, you can use .discard(4) instead."
      ],
      "metadata": {
        "id": "FkIu5mVwlprg"
      }
    },
    {
      "cell_type": "markdown",
      "source": [
        " 19. Write a code to find the union of two sets {1, 2, 3} and {3, 4, 5}.\n",
        "\n"
      ],
      "metadata": {
        "id": "9lHcGdIdl1oj"
      }
    },
    {
      "cell_type": "code",
      "source": [
        "# Define the sets\n",
        "set1 = {1, 2, 3}\n",
        "set2 = {3, 4, 5}\n",
        "\n",
        "# Find the union\n",
        "union_set = set1.union(set2)\n",
        "\n",
        "# Print the result\n",
        "print(\"Union of sets:\", union_set)\n"
      ],
      "metadata": {
        "id": "lQ4CZA4DvRZ-"
      },
      "execution_count": null,
      "outputs": []
    },
    {
      "cell_type": "markdown",
      "source": [
        "Output:\n",
        "\n",
        "    Union of sets: {1, 2, 3, 4, 5}\n",
        "\n",
        "You can also use the | operator like this:\n"
      ],
      "metadata": {
        "id": "tn6TgjklvUcx"
      }
    },
    {
      "cell_type": "code",
      "source": [
        "union_set = set1 | set2\n"
      ],
      "metadata": {
        "id": "IqK1QnNKvezU"
      },
      "execution_count": null,
      "outputs": []
    },
    {
      "cell_type": "markdown",
      "source": [
        "Question 20. Write a code to find the intersection of two sets {1, 2, 3} and {2, 3, 4}."
      ],
      "metadata": {
        "id": "KblT0IhAvqye"
      }
    },
    {
      "cell_type": "code",
      "source": [
        "# Define the sets\n",
        "set1 = {1, 2, 3}\n",
        "set2 = {2, 3, 4}\n",
        "\n",
        "# Find the intersection\n",
        "intersection_set = set1.intersection(set2)\n",
        "\n",
        "# Print the result\n",
        "print(\"Intersection of sets:\", intersection_set)\n"
      ],
      "metadata": {
        "id": "TtaQ4b4jv3ln"
      },
      "execution_count": null,
      "outputs": []
    },
    {
      "cell_type": "markdown",
      "source": [
        "Output:\n",
        "\n",
        "    Intersection of sets: {2, 3}\n"
      ],
      "metadata": {
        "id": "Sk5QN7grwW7C"
      }
    },
    {
      "cell_type": "markdown",
      "source": [
        "You can also use the & operator like this"
      ],
      "metadata": {
        "id": "PtH8r4gawhzn"
      }
    },
    {
      "cell_type": "code",
      "source": [
        "intersection_set = set1 & set2\n"
      ],
      "metadata": {
        "id": "pvehdY7FwkKK"
      },
      "execution_count": null,
      "outputs": []
    },
    {
      "cell_type": "markdown",
      "source": [
        "Question 21. Write a code to create a dictionary with the keys \"name\", \"age\", and \"city\", and print it."
      ],
      "metadata": {
        "id": "b6MKKbVDDQyt"
      }
    },
    {
      "cell_type": "code",
      "source": [
        "# Creating a dictionary\n",
        "person = {\n",
        "    \"name\": \"Karan\",\n",
        "    \"age\": 29,\n",
        "    \"city\": \"Delhi\"\n",
        "}\n",
        "\n",
        "# Printing the dictionary\n",
        "print(person)\n"
      ],
      "metadata": {
        "id": "I11OyP3rDjTH"
      },
      "execution_count": null,
      "outputs": []
    },
    {
      "cell_type": "markdown",
      "source": [
        "Output:"
      ],
      "metadata": {
        "id": "ZtdbgMHqDnrp"
      }
    },
    {
      "cell_type": "markdown",
      "source": [
        "    {'name': 'Karan', 'age': 29, 'city': 'Delhi'}\n"
      ],
      "metadata": {
        "id": "xnknqrFkDtOs"
      }
    },
    {
      "cell_type": "markdown",
      "source": [
        "Question 22. Write a code to add a new key-value pair \"country\": \"USA\" to the dictionary {'name': 'John', 'age': 25}."
      ],
      "metadata": {
        "id": "oZ9CbDvvD_eH"
      }
    },
    {
      "cell_type": "code",
      "source": [
        "# Given dictionary\n",
        "person = {'name': 'John', 'age': 25}\n",
        "\n",
        "# Adding new key-value pair\n",
        "person['country'] = 'USA'\n",
        "\n",
        "# Printing the updated dictionary\n",
        "print(person)\n"
      ],
      "metadata": {
        "id": "byVkpEyuEKwn"
      },
      "execution_count": null,
      "outputs": []
    },
    {
      "cell_type": "markdown",
      "source": [
        "Output:\n",
        "\n",
        "    {'name': 'John', 'age': 25, 'country': 'USA'}\n"
      ],
      "metadata": {
        "id": "A24kqS61ENdR"
      }
    },
    {
      "cell_type": "markdown",
      "source": [
        "Question 23. Write a code to access the value associated with the key \"name\" in the dictionary {'name': 'Alice', 'age': 30}."
      ],
      "metadata": {
        "id": "GaqhM-kGEUtU"
      }
    },
    {
      "cell_type": "code",
      "source": [
        "# Given dictionary\n",
        "person = {'name': 'Alice', 'age': 30}\n",
        "\n",
        "# Accessing the value of \"name\"\n",
        "print(person['name'])\n"
      ],
      "metadata": {
        "id": "KktS7nvXEdiI"
      },
      "execution_count": null,
      "outputs": []
    },
    {
      "cell_type": "markdown",
      "source": [
        "Output:\n",
        "\n",
        "    Alice\n"
      ],
      "metadata": {
        "id": "W3zRJo0GEgS6"
      }
    },
    {
      "cell_type": "markdown",
      "source": [
        "Alternatively, you can also use the .get() method:\n"
      ],
      "metadata": {
        "id": "4e9eJCIdElSN"
      }
    },
    {
      "cell_type": "code",
      "source": [
        "print(person.get('name'))\n"
      ],
      "metadata": {
        "id": "pJMAXQzdEs0o"
      },
      "execution_count": null,
      "outputs": []
    },
    {
      "cell_type": "markdown",
      "source": [
        "Question 24. Write a code to remove the key \"age\" from the dictionary {'name': 'Bob', 'age': 22, 'city': 'New York'}."
      ],
      "metadata": {
        "id": "29ImqFqgFEkL"
      }
    },
    {
      "cell_type": "code",
      "source": [
        "# Given dictionary\n",
        "person = {'name': 'Bob', 'age': 22, 'city': 'New York'}\n",
        "\n",
        "# Removing the key \"age\"\n",
        "del person['age']\n",
        "\n",
        "# Printing the updated dictionary\n",
        "print(person)\n"
      ],
      "metadata": {
        "id": "BTLLbYjRFNWD"
      },
      "execution_count": null,
      "outputs": []
    },
    {
      "cell_type": "markdown",
      "source": [
        "Output:\n",
        "\n",
        "    {'name': 'Bob', 'city': 'New York'}\n",
        "\n",
        "    You can also use .pop(\"age\") instead of del if you want to remove the key and get its value at the same time.    \n"
      ],
      "metadata": {
        "id": "c0AQ1E7cFPlW"
      }
    },
    {
      "cell_type": "markdown",
      "source": [
        "Question 25. Write a code to check if the key \"city\" exists in the dictionary {'name': 'Alice', 'city': 'Paris'}."
      ],
      "metadata": {
        "id": "dz7owFO9wSUA"
      }
    },
    {
      "cell_type": "code",
      "source": [
        "my_dict = {'name': 'Alice', 'city': 'Paris'}\n",
        "\n",
        "if \"city\" in my_dict:\n",
        "    print(\"Key 'city' exists in the dictionary.\")\n",
        "else:\n",
        "    print(\"Key 'city' does not exist in the dictionary.\")\n"
      ],
      "metadata": {
        "id": "2S38vuykwe41"
      },
      "execution_count": null,
      "outputs": []
    },
    {
      "cell_type": "markdown",
      "source": [
        "Output:\n",
        "\n",
        "    Key 'city' exists in the dictionary.\n"
      ],
      "metadata": {
        "id": "c1R30De7wzP1"
      }
    },
    {
      "cell_type": "markdown",
      "source": [
        "Question 26. Write a code to create a list, a tuple, and a dictionary, and print them all."
      ],
      "metadata": {
        "id": "vaotJBBow7aW"
      }
    },
    {
      "cell_type": "code",
      "source": [
        "# Creating a list\n",
        "my_list = [1, 2, 3, 4, 5]\n",
        "\n",
        "# Creating a tuple\n",
        "my_tuple = ('apple', 'banana', 'cherry')\n",
        "\n",
        "# Creating a dictionary\n",
        "my_dict = {'name': 'Alice', 'age': 25, 'city': 'Paris'}\n",
        "\n",
        "# Printing them all\n",
        "print(\"List:\", my_list)\n",
        "print(\"Tuple:\", my_tuple)\n",
        "print(\"Dictionary:\", my_dict)\n"
      ],
      "metadata": {
        "id": "a9duxYTexB5M"
      },
      "execution_count": null,
      "outputs": []
    },
    {
      "cell_type": "markdown",
      "source": [
        "Output:\n",
        "\n",
        "    List: [1, 2, 3, 4, 5]\n",
        "    Tuple: ('apple', 'banana', 'cherry')\n",
        "    Dictionary: {'name': 'Alice', 'age': 25, 'city': 'Paris'}\n"
      ],
      "metadata": {
        "id": "VyglrfQRxD2r"
      }
    },
    {
      "cell_type": "markdown",
      "source": [
        "Question 27. Write a code to create a list of 5 random numbers between 1 and 100, sort it in ascending order, and print the  result.(replaced)"
      ],
      "metadata": {
        "id": "JM05NxEExUBI"
      }
    },
    {
      "cell_type": "code",
      "source": [
        "import random\n",
        "\n",
        "# Create a list of 5 random numbers between 1 and 100\n",
        "numbers = [random.randint(1, 100) for _ in range(5)]\n",
        "\n",
        "# Sort the list in ascending order\n",
        "numbers.sort()\n",
        "\n",
        "# Print the result\n",
        "print(\"Sorted List:\", numbers)\n"
      ],
      "metadata": {
        "id": "yWVKc1W1xk2N"
      },
      "execution_count": null,
      "outputs": []
    },
    {
      "cell_type": "markdown",
      "source": [
        "Output:\n",
        "\n",
        "    Sorted List: [23, 41, 56, 78, 92]\n"
      ],
      "metadata": {
        "id": "6Spw6d57xnEJ"
      }
    },
    {
      "cell_type": "markdown",
      "source": [
        "Question 28. Write a code to create a list with strings and print the element at the third index."
      ],
      "metadata": {
        "id": "fSGgN2-7xyRq"
      }
    },
    {
      "cell_type": "code",
      "source": [
        "# Creating a list with strings\n",
        "my_list = [\"apple\", \"banana\", \"cherry\", \"date\", \"elderberry\"]\n",
        "\n",
        "# Printing the element at the third index (index starts from 0)\n",
        "print(\"Element at third index:\", my_list[3])\n"
      ],
      "metadata": {
        "id": "pDpG1zfJx-GX"
      },
      "execution_count": null,
      "outputs": []
    },
    {
      "cell_type": "markdown",
      "source": [
        "Output:\n",
        "\n",
        "    Element at third index: date\n"
      ],
      "metadata": {
        "id": "PTEGw8B9yAUQ"
      }
    },
    {
      "cell_type": "markdown",
      "source": [
        "Question 29. Write a code to combine two dictionaries into one and print the result."
      ],
      "metadata": {
        "id": "b8lqJkMqyJg4"
      }
    },
    {
      "cell_type": "code",
      "source": [
        "# Creating two dictionaries\n",
        "dict1 = {'a': 1, 'b': 2}\n",
        "dict2 = {'c': 3, 'd': 4}\n",
        "\n",
        "# Combining dictionaries\n",
        "combined_dict = {**dict1, **dict2}\n",
        "\n",
        "# Printing the result\n",
        "print(\"Combined Dictionary:\", combined_dict)\n"
      ],
      "metadata": {
        "id": "YUDrnciPyQ61"
      },
      "execution_count": null,
      "outputs": []
    },
    {
      "cell_type": "markdown",
      "source": [
        "Output:\n",
        "\n",
        "    Combined Dictionary: {'a': 1, 'b': 2, 'c': 3, 'd': 4}\n"
      ],
      "metadata": {
        "id": "JyGpTo33yTRq"
      }
    },
    {
      "cell_type": "markdown",
      "source": [
        "Question 30. Write a code to convert a list of strings into a set."
      ],
      "metadata": {
        "id": "BL_OZXYeycmp"
      }
    },
    {
      "cell_type": "code",
      "source": [
        "# Creating a list of strings\n",
        "my_list = [\"apple\", \"banana\", \"cherry\", \"apple\", \"banana\"]\n",
        "\n",
        "# Converting list to set\n",
        "my_set = set(my_list)\n",
        "\n",
        "# Printing the set\n",
        "print(\"Set:\", my_set)\n"
      ],
      "metadata": {
        "id": "iLlYZe4lykPK"
      },
      "execution_count": null,
      "outputs": []
    },
    {
      "cell_type": "markdown",
      "source": [
        "Output:\n",
        "\n",
        "    Set: {'banana', 'apple', 'cherry'}\n"
      ],
      "metadata": {
        "id": "U_jX8XMyynbJ"
      }
    }
  ]
}